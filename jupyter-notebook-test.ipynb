{
 "cells": [
  {
   "cell_type": "markdown",
   "id": "139a4762",
   "metadata": {},
   "source": [
    "# AI VISION WORKSHOP\n",
    "Note this first step assumes the virtual env is activated and all of these packages/modules have already been installed"
   ]
  },
  {
   "cell_type": "code",
   "execution_count": 1,
   "id": "f7606742",
   "metadata": {},
   "outputs": [],
   "source": [
    "import os\n",
    "import cv2\n",
    "from PIL import Image\n",
    "import webcolors\n",
    "from azure.ai.vision.imageanalysis import ImageAnalysisClient\n",
    "from azure.ai.vision.imageanalysis.models import VisualFeatures\n",
    "from azure.core.credentials import AzureKeyCredential\n",
    "from azure.storage.blob import BlobServiceClient"
   ]
  },
  {
   "cell_type": "markdown",
   "id": "0da03f25",
   "metadata": {},
   "source": [
    "Next we'll do something else..."
   ]
  }
 ],
 "metadata": {
  "kernelspec": {
   "display_name": "venv (3.12.10)",
   "language": "python",
   "name": "python3"
  },
  "language_info": {
   "codemirror_mode": {
    "name": "ipython",
    "version": 3
   },
   "file_extension": ".py",
   "mimetype": "text/x-python",
   "name": "python",
   "nbconvert_exporter": "python",
   "pygments_lexer": "ipython3",
   "version": "3.12.10"
  }
 },
 "nbformat": 4,
 "nbformat_minor": 5
}
