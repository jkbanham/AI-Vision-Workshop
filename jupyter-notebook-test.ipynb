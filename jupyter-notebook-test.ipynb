{
 "cells": [
  {
   "cell_type": "markdown",
   "id": "139a4762",
   "metadata": {},
   "source": [
    "# AI VISION WORKSHOP\n",
    "Our first step, as in most Python programs, is to import the external Python code modules that we will be using.  Note this first step assumes that your Python virtual environment is activated and all of these packages/modules have already been installed in the environment."
   ]
  },
  {
   "cell_type": "code",
   "execution_count": null,
   "id": "f7606742",
   "metadata": {},
   "outputs": [],
   "source": [
    "import os\n",
    "import cv2\n",
    "from PIL import Image\n",
    "import webcolors\n",
    "from azure.ai.vision.imageanalysis import ImageAnalysisClient\n",
    "from azure.ai.vision.imageanalysis.models import VisualFeatures\n",
    "from azure.core.credentials import AzureKeyCredential\n",
    "from azure.storage.blob import BlobServiceClient\n",
    "from azure.cognitiveservices.vision.computervision import ComputerVisionClient\n",
    "from msrest.authentication import CognitiveServicesCredentials\n",
    "import serial\n",
    "import time"
   ]
  },
  {
   "cell_type": "markdown",
   "id": "0da03f25",
   "metadata": {},
   "source": [
    "Next we need to set the credentials that we'll use to connect to the Azure AI services and get responses to our API calls.  Note that these credentials are unique to each individual user.  It is best practice to store these in a separate local file and then import them into your code.  The local file is marked so as not to be uploaded or shared in any version control systems such as GitHub.\n",
    "\n",
    "Be sure to log in to your Azure account (portal.azure.com), create a 'Computer Vision' resource, and note the unique andpoint, security key, and connection string so that you can paste them into the code below..."
   ]
  },
  {
   "cell_type": "code",
   "execution_count": null,
   "id": "dea468d1",
   "metadata": {},
   "outputs": [],
   "source": [
    "az_endpoint = \"<insert your unique endpoint here>\"\n",
    "key = \"<insert your unique key here\"  \n",
    "storage_connection_string = \"<insert your unique storage connection string here>\""
   ]
  },
  {
   "cell_type": "markdown",
   "id": "181dca28",
   "metadata": {},
   "source": [
    "Now we'll set some static global variables that will be used later in the program..."
   ]
  },
  {
   "cell_type": "code",
   "execution_count": null,
   "id": "3b5f46ae",
   "metadata": {},
   "outputs": [],
   "source": [
    "# Static global variables are defined here...\n",
    "img_file = '.\\\\venv\\\\WEBCAM-IMAGES\\\\sort-object.jpg'  # The name (and file path) of the image file which will be captured and analyzed\n",
    "com_port = 'COM4'  # COM port for Arduino board connection (USB)"
   ]
  }
 ],
 "metadata": {
  "kernelspec": {
   "display_name": "venv (3.12.10)",
   "language": "python",
   "name": "python3"
  },
  "language_info": {
   "codemirror_mode": {
    "name": "ipython",
    "version": 3
   },
   "file_extension": ".py",
   "mimetype": "text/x-python",
   "name": "python",
   "nbconvert_exporter": "python",
   "pygments_lexer": "ipython3",
   "version": "3.12.10"
  }
 },
 "nbformat": 4,
 "nbformat_minor": 5
}
