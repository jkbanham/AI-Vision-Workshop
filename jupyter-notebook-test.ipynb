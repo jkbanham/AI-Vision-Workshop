{
 "cells": [
  {
   "cell_type": "markdown",
   "id": "139a4762",
   "metadata": {},
   "source": [
    "# AI VISION WORKSHOP\n",
    "Our first step, as in most Python programs, is to import the external Python code modules that we will be using.  Note this first step assumes that your Python virtual environment is activated and all of these packages/modules have already been installed in the environment."
   ]
  },
  {
   "cell_type": "code",
   "execution_count": 1,
   "id": "f7606742",
   "metadata": {},
   "outputs": [],
   "source": [
    "import os\n",
    "import cv2\n",
    "from PIL import Image\n",
    "import webcolors\n",
    "from azure.ai.vision.imageanalysis import ImageAnalysisClient\n",
    "from azure.ai.vision.imageanalysis.models import VisualFeatures\n",
    "from azure.core.credentials import AzureKeyCredential\n",
    "from azure.storage.blob import BlobServiceClient\n",
    "from azure.cognitiveservices.vision.computervision import ComputerVisionClient\n",
    "from msrest.authentication import CognitiveServicesCredentials\n",
    "import serial\n",
    "import time"
   ]
  },
  {
   "cell_type": "markdown",
   "id": "0da03f25",
   "metadata": {},
   "source": [
    "Next we need to set the credentials that we'll use to connect to the Azure AI services and get responses to our API calls.  Note that these credentials are unique to each individual user.  It is best practice to store these in a separate local file and then import them into your code.  The local file is marked so as not to be uploaded or shared in any version control systems such as GitHub.\n",
    "\n",
    "Be sure to log in to your Azure account (portal.azure.com), create a 'Computer Vision' resource and a storage blob (details in workshop lab instructions), and note the unique endpoint, security key, and storage blob connection string so that you can paste them into the code below..."
   ]
  },
  {
   "cell_type": "code",
   "execution_count": null,
   "id": "dea468d1",
   "metadata": {},
   "outputs": [],
   "source": [
    "az_endpoint = \"<insert your unique endpoint here>\"\n",
    "key = \"<insert your unique key here\"  \n",
    "storage_connection_string = \"<insert your unique storage connection string here>\""
   ]
  },
  {
   "cell_type": "markdown",
   "id": "181dca28",
   "metadata": {},
   "source": [
    "Now we'll set some static global variables that will be used later in the program..."
   ]
  },
  {
   "cell_type": "code",
   "execution_count": 7,
   "id": "3b5f46ae",
   "metadata": {},
   "outputs": [],
   "source": [
    "# Static global variables are defined here...\n",
    "img_file = '.\\\\WEBCAM-IMAGES\\\\sort-object.jpg'  # The name (and file path) of the image file which will be captured and analyzed\n",
    "com_port = 'COM4'  # COM port for Arduino board connection (USB)"
   ]
  },
  {
   "cell_type": "markdown",
   "id": "72b7cacc",
   "metadata": {},
   "source": [
    "Next we'll create the basic functions of our code that depend on your local computer:\n",
    "\n",
    "1. Capturing an image from your webcam\n",
    "2. Communicating via the USB serial (COM) port to an attached Arduino microcontroller board in order to rotate a servo motor\n",
    "\n",
    "We'll start with the webcam and define some functions to conect to it and capture a still frame..."
   ]
  },
  {
   "cell_type": "code",
   "execution_count": 3,
   "id": "70e013ca",
   "metadata": {},
   "outputs": [],
   "source": [
    "def get_image_frame_from_webcam():\n",
    "    \"\"\"Returns a single frame (image) from the webcam\"\"\"\n",
    "    print(\"Press c to capture the frame...\")\n",
    "\n",
    "    #Loop to continuously get frames from the webcam until user types a 'c'\n",
    "    while(True):\n",
    "        #Read a frame from the webcam\n",
    "        ret, frame = cap.read()\n",
    "\n",
    "        #If frame was read correctly, show it\n",
    "        if ret:\n",
    "            cv2.imshow(\"Webcam Feed\", frame)\n",
    "\n",
    "     #Break the loop when 'c' key is pressed\n",
    "        if cv2.waitKey(1) & 0xFF == ord('c'):\n",
    "            break\n",
    "\n",
    "    # Capture a frame\n",
    "    ret, frame = cap.read()\n",
    "\n",
    "    # Save the captured image\n",
    "    if ret:\n",
    "        cv2.imwrite(img_file, frame) # This overwrites the existing jpeg file defined in the static global variable defined above\n",
    "        print(\"\\nWebcam image captured...\\n\")\n",
    "    else:\n",
    "        print(\"\\nError capturing image\\n\")\n",
    "\n",
    "    #Release the capture object and destroy all windows\n",
    "    cap.release()\n",
    "    cv2.destroyAllWindows()\n",
    "\n",
    "\n",
    "\n",
    "def open_image_in_new_window(image_path):\n",
    "    \"\"\"Opens an image file in a new window using Pillow.\"\"\"\n",
    "    try:\n",
    "        img = Image.open(image_path)\n",
    "        img.show()\n",
    "    except FileNotFoundError:\n",
    "        print(f\"Error: Image file not found at '{image_path}'\")\n",
    "    except Exception as e:\n",
    "        print(f\"An error occurred: {e}\")\n"
   ]
  },
  {
   "cell_type": "markdown",
   "id": "401bcf7c",
   "metadata": {},
   "source": [
    "Now we'll use these functions to open up the webcam and capture an image.  Note that the camera index might change based on your system.  Also, the 'img_file' variable value defined above has to already exist - if you get errors when trying to write the image it's likely a path issue (check what your current working directory is when running this notebook/cell) "
   ]
  },
  {
   "cell_type": "code",
   "execution_count": 8,
   "id": "6b98690e",
   "metadata": {},
   "outputs": [
    {
     "name": "stdout",
     "output_type": "stream",
     "text": [
      "Press c to capture the frame...\n",
      "\n",
      "Webcam image captured...\n",
      "\n"
     ]
    }
   ],
   "source": [
    "# Initialize the webcam\n",
    "cap = cv2.VideoCapture(0)  # Note we need to use the correct index of the usb attached camera \n",
    "\n",
    "# Check if the camera opened successfully\n",
    "if not cap.isOpened():\n",
    "    raise IOError(\"Cannot open webcam - make sure it is attached\")\n",
    "\n",
    "# Create a window named \"Webcam Feed\" to display what the webcam is seeing on to the console\n",
    "cv2.namedWindow(\"Webcam Feed\")\n",
    "\n",
    "# Call the capture frame function here\n",
    "get_image_frame_from_webcam()\n",
    "\n",
    "# Call the function to open the webcam image in a new window and show it on the console\n",
    "open_image_in_new_window(img_file)"
   ]
  },
  {
   "cell_type": "markdown",
   "id": "394bc823",
   "metadata": {},
   "source": [
    "Now we'll upload the image file into an Azure storage blob so that we can use it as input (via it's public url) into various Azure Vision API calls"
   ]
  },
  {
   "cell_type": "code",
   "execution_count": null,
   "id": "a698731e",
   "metadata": {},
   "outputs": [],
   "source": [
    "# Now write the image into the azure blob storage container so that we can run various Azure AI tools against it...\n",
    "container_name = \"ai-vision-test\"  # This is the storage container created in the Azure environment\n",
    "blob_name = \"sort-object\"  # The name to assign to the uploaded file\n",
    "\n",
    "# Upload the file and print the URL to the screen\n",
    "uploaded_file_url = upload_blob(img_file, container_name, blob_name)\n",
    "print(\"\\nUploaded file URL in Azure is: \", uploaded_file_url)"
   ]
  }
 ],
 "metadata": {
  "kernelspec": {
   "display_name": "venv (3.12.10)",
   "language": "python",
   "name": "python3"
  },
  "language_info": {
   "codemirror_mode": {
    "name": "ipython",
    "version": 3
   },
   "file_extension": ".py",
   "mimetype": "text/x-python",
   "name": "python",
   "nbconvert_exporter": "python",
   "pygments_lexer": "ipython3",
   "version": "3.12.10"
  }
 },
 "nbformat": 4,
 "nbformat_minor": 5
}
